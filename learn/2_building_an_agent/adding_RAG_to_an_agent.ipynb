{
 "cells": [
  {
   "cell_type": "markdown",
   "metadata": {
    "vscode": {
     "languageId": "plaintext"
    }
   },
   "source": [
    "## Building the RAG pipeline."
   ]
  },
  {
   "cell_type": "code",
   "execution_count": 2,
   "metadata": {},
   "outputs": [],
   "source": [
    "import os\n",
    "os.environ[\"OPENAI_API_KEY\"] = input(\"Enter the key\")"
   ]
  },
  {
   "cell_type": "code",
   "execution_count": 1,
   "metadata": {},
   "outputs": [],
   "source": [
    "from llama_index.core import SimpleDirectoryReader,VectorStoreIndex,Settings\n",
    "from llama_index.llms.openai import OpenAI\n",
    "from llama_index.core.tools import FunctionTool\n",
    "from llama_index.core.agent import ReActAgent\n",
    "from llama_index.core.tools import QueryEngineTool"
   ]
  },
  {
   "cell_type": "code",
   "execution_count": 3,
   "metadata": {},
   "outputs": [],
   "source": [
    "Settings.llm = OpenAI(model=\"gpt-3.5-turbo\", temperature=0)"
   ]
  },
  {
   "cell_type": "code",
   "execution_count": 7,
   "metadata": {},
   "outputs": [],
   "source": [
    "documents = SimpleDirectoryReader(\"data\").load_data()\n",
    "index = VectorStoreIndex.from_documents(documents)\n",
    "query_engine = index.as_query_engine()"
   ]
  },
  {
   "cell_type": "code",
   "execution_count": 8,
   "metadata": {},
   "outputs": [],
   "source": [
    "response = query_engine.query(\"What was the total amount of the 2023 Canda Fedral budget?\")"
   ]
  },
  {
   "cell_type": "code",
   "execution_count": 9,
   "metadata": {},
   "outputs": [
    {
     "data": {
      "text/plain": [
       "Response(response='The total amount of the 2023 Canada Federal budget was $43 billion in net new spending over six years.', source_nodes=[NodeWithScore(node=TextNode(id_='a0adbeb4-7157-4b46-9bf0-ba312821a002', embedding=None, metadata={'file_path': '/Users/admin/Desktop/training/lamma_index/learn/2_building_an_agent/data/2023_canada_fedral_budget.tt', 'file_name': '2023_canada_fedral_budget.tt', 'file_size': 4011, 'creation_date': '2024-11-12', 'last_modified_date': '2024-11-12'}, excluded_embed_metadata_keys=['file_name', 'file_type', 'file_size', 'creation_date', 'last_modified_date', 'last_accessed_date'], excluded_llm_metadata_keys=['file_name', 'file_type', 'file_size', 'creation_date', 'last_modified_date', 'last_accessed_date'], relationships={<NodeRelationship.SOURCE: '1'>: RelatedNodeInfo(node_id='d52124ec-0bd1-41b2-ad50-4d7bedf7c0a3', node_type=<ObjectType.DOCUMENT: '4'>, metadata={'file_path': '/Users/admin/Desktop/training/lamma_index/learn/2_building_an_agent/data/2023_canada_fedral_budget.tt', 'file_name': '2023_canada_fedral_budget.tt', 'file_size': 4011, 'creation_date': '2024-11-12', 'last_modified_date': '2024-11-12'}, hash='63185cb1d47c1f87c537734df33fc5a49e1afc4bfd79088a8f9a02113d2dbff6')}, text='The Canadian federal budget for the fiscal years of 2023–24 was presented to the House of Commons by Finance Minister Chrystia Freeland on 28 March 2023.[2] The budget was meant to reflect Prime Minister Justin Trudeau\\'s stated policy objective to \"make life more affordable for Canadians\"[3] while also reducing government expenditures.\\n\\nThe 2023 budget is the seventh budget document introduced in the House of Commons under the premiership of Justin Trudeau. It comes at the heel of the first anniversary of the Russian invasion of Ukraine, following which Canada sent one billion dollars in military aid to Ukraine.[5]\\n\\nUnited States President Joe Biden\\'s Inflation Reduction Act of 2022 included unprecedented investments in initiatives aimed at promoting Green growth. Canada was expected to announce similar investments in its 2023 budget in order to remain competitive with its southern neighbour.[6]\\n\\nOn 22 June 2023, all parts of the budget received Royal assent, and became law.[7]\\n\\nThe budget included $43B in net new spending over six years,[8] including $20B for a new 15 per cent refundable tax credit to promote investment in green technologies.[9] $13B was also allocated to implement a means-tested dental care program, a policy originating in the NDP-Liberal deal of 2022.[8] The Canadian Dental Care Plan began rollout in December 2023.[10]\\n\\nThe budget introduced a \"grocery rebate\" of up to $467 for eligible families and up to $234 for eligible single people with no kids. The Canada Student Grants also saw a 40% increase in funding.[11]\\n\\nFreeland issued $15B of spending cuts, achieved by defunding public services and cancelling previously announced programs.[12] A new tax 2% on stock buybacks was also introduced.[11]\\n\\nThe budget created the government\\'s First Home Savings Account (FHSA), offering tax savings for first-time buyers, and budgeted roughly $925 million in 2023–2024 for the \"housing accelerator fund,\" an incentive announced in Budget 2022 to encourage municipalities to make home construction easier.[13]\\n\\nThe budget relaxed Canada\\'s strict rules on foreign home buying, and have given more foreign stake in developing commercial real estate. They also relaxed conditions of home buying for temporary work-permit holders and international students. This is a partial reversal of the proposed two-year ban on home buying by non-Canadians for increasing housing affordability and decreasing inflation. The ban was supposed to start by January 1, 2023 and be on effect till 2025.[14]\\n\\nReactions\\nConservative party leader Pierre Poilievre strongly criticized the budget, arguing it included too much new spending and that such policy would result in higher inflation. The leader of the Official Opposition also stated that the housing measures announced in the budget were insufficient to solve the housing crisis.[11] Poilievre also stated that the party would not vote for the budget.\\n\\nNDP leader Jagmeet Singh praised the budget as the \"biggest expansion of our health care in a generation\", and stated NDP MPs would vote in its favour.[11]\\n\\nOn the contrary, both Bloc Québécois leader Yves-François Blanchet and Green Party leader Elizabeth May believed the budget did not increase health care spending enough. They also expressed doubts concerning the new green investments tax credit, arguing there was no proof they would be actually used to fund green projects and decried that they could be used by fossil fuel companies.[15]\\n\\nThese fears were shared by environmental organisations such as Greenpeace Canada, Environmental Defence Canada, the Climate Action Network and Équiterre. While they welcomes the new investments in Renewable energy, these groups were distraught by the government\\'s plan to increase funding for Carbon capture and storage, arguing it is an unproven technology that is mostly used as propaganda by the petroleum industry to delay the reduction of its production. They also lamented the lack of investments in public transport.[16]', mimetype='text/plain', start_char_idx=0, end_char_idx=4002, text_template='{metadata_str}\\n\\n{content}', metadata_template='{key}: {value}', metadata_seperator='\\n'), score=0.8975430310560935)], metadata={'a0adbeb4-7157-4b46-9bf0-ba312821a002': {'file_path': '/Users/admin/Desktop/training/lamma_index/learn/2_building_an_agent/data/2023_canada_fedral_budget.tt', 'file_name': '2023_canada_fedral_budget.tt', 'file_size': 4011, 'creation_date': '2024-11-12', 'last_modified_date': '2024-11-12'}})"
      ]
     },
     "execution_count": 9,
     "metadata": {},
     "output_type": "execute_result"
    }
   ],
   "source": [
    "response"
   ]
  },
  {
   "cell_type": "markdown",
   "metadata": {},
   "source": [
    "## Adding the RAG as a tool along with two other mathematical tools."
   ]
  },
  {
   "cell_type": "code",
   "execution_count": 10,
   "metadata": {},
   "outputs": [],
   "source": [
    "def multiply(a: float, b: float) -> float:\n",
    "    \"\"\"Multiply two numbers and returns the product\"\"\"\n",
    "    return a * b\n",
    "\n",
    "\n",
    "multiply_tool = FunctionTool.from_defaults(fn=multiply)\n",
    "\n",
    "def add(a: float, b: float) -> float:\n",
    "    \"\"\"Add two numbers and returns the sum\"\"\"\n",
    "    return a + b\n",
    "\n",
    "\n",
    "add_tool = FunctionTool.from_defaults(fn=add)"
   ]
  },
  {
   "cell_type": "code",
   "execution_count": 11,
   "metadata": {},
   "outputs": [],
   "source": [
    "budget_tool = QueryEngineTool.from_defaults(\n",
    "    query_engine,\n",
    "    name=\"canadian_budget_2023\",\n",
    "    description=\"A RAG engine with some basic facts about the 2023 Canadian federal budget.\",\n",
    ")"
   ]
  },
  {
   "cell_type": "code",
   "execution_count": 12,
   "metadata": {},
   "outputs": [],
   "source": [
    "agent = ReActAgent.from_tools([multiply_tool, add_tool, budget_tool], verbose=True)"
   ]
  },
  {
   "cell_type": "code",
   "execution_count": null,
   "metadata": {},
   "outputs": [
    {
     "name": "stdout",
     "output_type": "stream",
     "text": [
      "> Running step 64f3e93f-bafd-4620-a8df-85512e56b9c4. Step input: What is the total amount of the 2023 Canadian federal budget multiplied by 3? Go step by step, using a tool to do any math.\n",
      "\u001b[1;3;38;5;200mThought: The current language of the user is: English. I need to use a tool to help me answer the question.\n",
      "Action: canadian_budget_2023\n",
      "Action Input: {'input': 'total'}\n",
      "\u001b[0m\u001b[1;3;34mObservation: The total net new spending in the 2023 Canadian federal budget over six years was $43 billion.\n",
      "\u001b[0m> Running step bc7acf2a-d803-45ee-a894-a847f897f439. Step input: None\n",
      "\u001b[1;3;38;5;200mThought: I can answer without using any more tools. I'll use the user's language to answer\n",
      "Answer: The total amount of the 2023 Canadian federal budget is $43 billion. To find the total amount multiplied by 3, we can simply multiply $43 billion by 3.\n",
      "\n",
      "Calculating $43 billion * 3:\n",
      "$43 billion * 3 = $129 billion\n",
      "\n",
      "Therefore, the total amount of the 2023 Canadian federal budget multiplied by 3 is $129 billion.\n",
      "\u001b[0mThe total amount of the 2023 Canadian federal budget is $43 billion. To find the total amount multiplied by 3, we can simply multiply $43 billion by 3.\n",
      "\n",
      "Calculating $43 billion * 3:\n",
      "$43 billion * 3 = $129 billion\n",
      "\n",
      "Therefore, the total amount of the 2023 Canadian federal budget multiplied by 3 is $129 billion.\n"
     ]
    }
   ],
   "source": [
    "response = agent.chat(\n",
    "    \"What is the total amount of the 2023 Canadian federal budget multiplied by 3? Go step by step, using a tool to do any math.\"\n",
    ")\n",
    "\n",
    "print(response)"
   ]
  },
  {
   "cell_type": "code",
   "execution_count": 14,
   "metadata": {},
   "outputs": [
    {
     "name": "stdout",
     "output_type": "stream",
     "text": [
      "> Running step 72b1f475-0d15-4928-a235-0da84295dbff. Step input: Can you add 20 billion to the previous total? Go step by step, using a tool to do any math.\n",
      "\u001b[1;3;38;5;200mThought: The current language of the user is: English. I need to use a tool to help me answer the question.\n",
      "Action: multiply\n",
      "Action Input: {'input': '43 billion', 'num_beams': 3}\n",
      "\u001b[0m\u001b[1;3;34mObservation: Error: multiply() got an unexpected keyword argument 'input'\n",
      "\u001b[0m> Running step 1cea4ef9-c83a-4c70-80a6-f649fdc5b6ce. Step input: None\n",
      "\u001b[1;3;38;5;200mThought: I cannot answer the question with the provided tools.\n",
      "Answer: The total amount of the 2023 Canadian federal budget multiplied by 3 is $129 billion. To add 20 billion to this total, we can simply perform the addition manually.\n",
      "\n",
      "Calculating $129 billion + $20 billion:\n",
      "$129 billion + $20 billion = $149 billion\n",
      "\n",
      "Therefore, the total amount after adding 20 billion to the previous total is $149 billion.\n",
      "\u001b[0mThe total amount of the 2023 Canadian federal budget multiplied by 3 is $129 billion. To add 20 billion to this total, we can simply perform the addition manually.\n",
      "\n",
      "Calculating $129 billion + $20 billion:\n",
      "$129 billion + $20 billion = $149 billion\n",
      "\n",
      "Therefore, the total amount after adding 20 billion to the previous total is $149 billion.\n"
     ]
    }
   ],
   "source": [
    "response = agent.chat(\n",
    "    \"Can you add 20 billion to the previous total? Go step by step, using a tool to do any math.\"\n",
    ")\n",
    "\n",
    "print(response)"
   ]
  },
  {
   "cell_type": "code",
   "execution_count": null,
   "metadata": {},
   "outputs": [],
   "source": []
  },
  {
   "cell_type": "code",
   "execution_count": null,
   "metadata": {},
   "outputs": [],
   "source": []
  },
  {
   "cell_type": "code",
   "execution_count": null,
   "metadata": {},
   "outputs": [],
   "source": []
  },
  {
   "cell_type": "code",
   "execution_count": null,
   "metadata": {},
   "outputs": [],
   "source": []
  },
  {
   "cell_type": "code",
   "execution_count": null,
   "metadata": {},
   "outputs": [],
   "source": []
  },
  {
   "cell_type": "code",
   "execution_count": null,
   "metadata": {},
   "outputs": [],
   "source": []
  },
  {
   "cell_type": "code",
   "execution_count": null,
   "metadata": {},
   "outputs": [],
   "source": []
  },
  {
   "cell_type": "code",
   "execution_count": null,
   "metadata": {},
   "outputs": [],
   "source": []
  }
 ],
 "metadata": {
  "kernelspec": {
   "display_name": "verloopAssignment",
   "language": "python",
   "name": "python3"
  },
  "language_info": {
   "codemirror_mode": {
    "name": "ipython",
    "version": 3
   },
   "file_extension": ".py",
   "mimetype": "text/x-python",
   "name": "python",
   "nbconvert_exporter": "python",
   "pygments_lexer": "ipython3",
   "version": "3.10.15"
  }
 },
 "nbformat": 4,
 "nbformat_minor": 2
}
